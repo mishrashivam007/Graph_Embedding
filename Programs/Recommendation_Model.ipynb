{
  "nbformat": 4,
  "nbformat_minor": 0,
  "metadata": {
    "colab": {
      "provenance": []
    },
    "kernelspec": {
      "name": "python3",
      "display_name": "Python 3"
    },
    "language_info": {
      "name": "python"
    }
  },
  "cells": [
    {
      "cell_type": "markdown",
      "source": [],
      "metadata": {
        "id": "qTPl9fAg5iJZ"
      }
    },
    {
      "cell_type": "code",
      "execution_count": null,
      "metadata": {
        "colab": {
          "base_uri": "https://localhost:8080/"
        },
        "id": "zNAz1U7Vnn5P",
        "outputId": "58b373c4-2669-4798-aa26-27ef516035d8"
      },
      "outputs": [
        {
          "output_type": "stream",
          "name": "stdout",
          "text": [
            "Collecting neo4j\n",
            "  Downloading neo4j-5.18.0.tar.gz (198 kB)\n",
            "\u001b[2K     \u001b[90m━━━━━━━━━━━━━━━━━━━━━━━━━━━━━━━━━━━━━━━━\u001b[0m \u001b[32m198.0/198.0 kB\u001b[0m \u001b[31m4.0 MB/s\u001b[0m eta \u001b[36m0:00:00\u001b[0m\n",
            "\u001b[?25h  Installing build dependencies ... \u001b[?25l\u001b[?25hdone\n",
            "  Getting requirements to build wheel ... \u001b[?25l\u001b[?25hdone\n",
            "  Installing backend dependencies ... \u001b[?25l\u001b[?25hdone\n",
            "  Preparing metadata (pyproject.toml) ... \u001b[?25l\u001b[?25hdone\n",
            "Requirement already satisfied: pytz in /usr/local/lib/python3.10/dist-packages (from neo4j) (2023.4)\n",
            "Building wheels for collected packages: neo4j\n",
            "  Building wheel for neo4j (pyproject.toml) ... \u001b[?25l\u001b[?25hdone\n",
            "  Created wheel for neo4j: filename=neo4j-5.18.0-py3-none-any.whl size=273862 sha256=c013d1aecd1bbd6a253a1bdd384b0f884bc673dcb5732db3fdd8d35d22522f4f\n",
            "  Stored in directory: /root/.cache/pip/wheels/e7/e1/a0/dd7c19192f5383ff57d02a6c126cbfe4b7b2ae82f70c6994ce\n",
            "Successfully built neo4j\n",
            "Installing collected packages: neo4j\n",
            "Successfully installed neo4j-5.18.0\n"
          ]
        }
      ],
      "source": [
        "!pip install neo4j"
      ]
    },
    {
      "cell_type": "code",
      "source": [
        "!pip install git+https://github.com/VenkateshwaranB/stellargraph.git"
      ],
      "metadata": {
        "colab": {
          "base_uri": "https://localhost:8080/"
        },
        "id": "PPerOoGTnqz6",
        "outputId": "e8336ac1-9e64-4ebe-d621-96c3cd3b028c"
      },
      "execution_count": null,
      "outputs": [
        {
          "output_type": "stream",
          "name": "stdout",
          "text": [
            "Collecting git+https://github.com/VenkateshwaranB/stellargraph.git\n",
            "  Cloning https://github.com/VenkateshwaranB/stellargraph.git to /tmp/pip-req-build-f7_m7ujq\n",
            "  Running command git clone --filter=blob:none --quiet https://github.com/VenkateshwaranB/stellargraph.git /tmp/pip-req-build-f7_m7ujq\n",
            "  Resolved https://github.com/VenkateshwaranB/stellargraph.git to commit efa1f847109a4ba490e7a5105646a20ee09a3243\n",
            "  Preparing metadata (setup.py) ... \u001b[?25l\u001b[?25hdone\n",
            "Requirement already satisfied: tensorflow>=2.1.0 in /usr/local/lib/python3.10/dist-packages (from stellargraph==1.3.0b0) (2.15.0)\n",
            "Requirement already satisfied: numpy>=1.14 in /usr/local/lib/python3.10/dist-packages (from stellargraph==1.3.0b0) (1.25.2)\n",
            "Requirement already satisfied: scipy>=1.1.0 in /usr/local/lib/python3.10/dist-packages (from stellargraph==1.3.0b0) (1.11.4)\n",
            "Requirement already satisfied: networkx>=2.2 in /usr/local/lib/python3.10/dist-packages (from stellargraph==1.3.0b0) (3.2.1)\n",
            "Requirement already satisfied: scikit_learn>=0.20 in /usr/local/lib/python3.10/dist-packages (from stellargraph==1.3.0b0) (1.2.2)\n",
            "Requirement already satisfied: matplotlib>=2.2 in /usr/local/lib/python3.10/dist-packages (from stellargraph==1.3.0b0) (3.7.1)\n",
            "Requirement already satisfied: pandas>=0.24 in /usr/local/lib/python3.10/dist-packages (from stellargraph==1.3.0b0) (1.5.3)\n",
            "Requirement already satisfied: contourpy>=1.0.1 in /usr/local/lib/python3.10/dist-packages (from matplotlib>=2.2->stellargraph==1.3.0b0) (1.2.0)\n",
            "Requirement already satisfied: cycler>=0.10 in /usr/local/lib/python3.10/dist-packages (from matplotlib>=2.2->stellargraph==1.3.0b0) (0.12.1)\n",
            "Requirement already satisfied: fonttools>=4.22.0 in /usr/local/lib/python3.10/dist-packages (from matplotlib>=2.2->stellargraph==1.3.0b0) (4.49.0)\n",
            "Requirement already satisfied: kiwisolver>=1.0.1 in /usr/local/lib/python3.10/dist-packages (from matplotlib>=2.2->stellargraph==1.3.0b0) (1.4.5)\n",
            "Requirement already satisfied: packaging>=20.0 in /usr/local/lib/python3.10/dist-packages (from matplotlib>=2.2->stellargraph==1.3.0b0) (23.2)\n",
            "Requirement already satisfied: pillow>=6.2.0 in /usr/local/lib/python3.10/dist-packages (from matplotlib>=2.2->stellargraph==1.3.0b0) (9.4.0)\n",
            "Requirement already satisfied: pyparsing>=2.3.1 in /usr/local/lib/python3.10/dist-packages (from matplotlib>=2.2->stellargraph==1.3.0b0) (3.1.1)\n",
            "Requirement already satisfied: python-dateutil>=2.7 in /usr/local/lib/python3.10/dist-packages (from matplotlib>=2.2->stellargraph==1.3.0b0) (2.8.2)\n",
            "Requirement already satisfied: pytz>=2020.1 in /usr/local/lib/python3.10/dist-packages (from pandas>=0.24->stellargraph==1.3.0b0) (2023.4)\n",
            "Requirement already satisfied: joblib>=1.1.1 in /usr/local/lib/python3.10/dist-packages (from scikit_learn>=0.20->stellargraph==1.3.0b0) (1.3.2)\n",
            "Requirement already satisfied: threadpoolctl>=2.0.0 in /usr/local/lib/python3.10/dist-packages (from scikit_learn>=0.20->stellargraph==1.3.0b0) (3.3.0)\n",
            "Requirement already satisfied: absl-py>=1.0.0 in /usr/local/lib/python3.10/dist-packages (from tensorflow>=2.1.0->stellargraph==1.3.0b0) (1.4.0)\n",
            "Requirement already satisfied: astunparse>=1.6.0 in /usr/local/lib/python3.10/dist-packages (from tensorflow>=2.1.0->stellargraph==1.3.0b0) (1.6.3)\n",
            "Requirement already satisfied: flatbuffers>=23.5.26 in /usr/local/lib/python3.10/dist-packages (from tensorflow>=2.1.0->stellargraph==1.3.0b0) (23.5.26)\n",
            "Requirement already satisfied: gast!=0.5.0,!=0.5.1,!=0.5.2,>=0.2.1 in /usr/local/lib/python3.10/dist-packages (from tensorflow>=2.1.0->stellargraph==1.3.0b0) (0.5.4)\n",
            "Requirement already satisfied: google-pasta>=0.1.1 in /usr/local/lib/python3.10/dist-packages (from tensorflow>=2.1.0->stellargraph==1.3.0b0) (0.2.0)\n",
            "Requirement already satisfied: h5py>=2.9.0 in /usr/local/lib/python3.10/dist-packages (from tensorflow>=2.1.0->stellargraph==1.3.0b0) (3.9.0)\n",
            "Requirement already satisfied: libclang>=13.0.0 in /usr/local/lib/python3.10/dist-packages (from tensorflow>=2.1.0->stellargraph==1.3.0b0) (16.0.6)\n",
            "Requirement already satisfied: ml-dtypes~=0.2.0 in /usr/local/lib/python3.10/dist-packages (from tensorflow>=2.1.0->stellargraph==1.3.0b0) (0.2.0)\n",
            "Requirement already satisfied: opt-einsum>=2.3.2 in /usr/local/lib/python3.10/dist-packages (from tensorflow>=2.1.0->stellargraph==1.3.0b0) (3.3.0)\n",
            "Requirement already satisfied: protobuf!=4.21.0,!=4.21.1,!=4.21.2,!=4.21.3,!=4.21.4,!=4.21.5,<5.0.0dev,>=3.20.3 in /usr/local/lib/python3.10/dist-packages (from tensorflow>=2.1.0->stellargraph==1.3.0b0) (3.20.3)\n",
            "Requirement already satisfied: setuptools in /usr/local/lib/python3.10/dist-packages (from tensorflow>=2.1.0->stellargraph==1.3.0b0) (67.7.2)\n",
            "Requirement already satisfied: six>=1.12.0 in /usr/local/lib/python3.10/dist-packages (from tensorflow>=2.1.0->stellargraph==1.3.0b0) (1.16.0)\n",
            "Requirement already satisfied: termcolor>=1.1.0 in /usr/local/lib/python3.10/dist-packages (from tensorflow>=2.1.0->stellargraph==1.3.0b0) (2.4.0)\n",
            "Requirement already satisfied: typing-extensions>=3.6.6 in /usr/local/lib/python3.10/dist-packages (from tensorflow>=2.1.0->stellargraph==1.3.0b0) (4.10.0)\n",
            "Requirement already satisfied: wrapt<1.15,>=1.11.0 in /usr/local/lib/python3.10/dist-packages (from tensorflow>=2.1.0->stellargraph==1.3.0b0) (1.14.1)\n",
            "Requirement already satisfied: tensorflow-io-gcs-filesystem>=0.23.1 in /usr/local/lib/python3.10/dist-packages (from tensorflow>=2.1.0->stellargraph==1.3.0b0) (0.36.0)\n",
            "Requirement already satisfied: grpcio<2.0,>=1.24.3 in /usr/local/lib/python3.10/dist-packages (from tensorflow>=2.1.0->stellargraph==1.3.0b0) (1.62.0)\n",
            "Requirement already satisfied: tensorboard<2.16,>=2.15 in /usr/local/lib/python3.10/dist-packages (from tensorflow>=2.1.0->stellargraph==1.3.0b0) (2.15.2)\n",
            "Requirement already satisfied: tensorflow-estimator<2.16,>=2.15.0 in /usr/local/lib/python3.10/dist-packages (from tensorflow>=2.1.0->stellargraph==1.3.0b0) (2.15.0)\n",
            "Requirement already satisfied: keras<2.16,>=2.15.0 in /usr/local/lib/python3.10/dist-packages (from tensorflow>=2.1.0->stellargraph==1.3.0b0) (2.15.0)\n",
            "Requirement already satisfied: wheel<1.0,>=0.23.0 in /usr/local/lib/python3.10/dist-packages (from astunparse>=1.6.0->tensorflow>=2.1.0->stellargraph==1.3.0b0) (0.42.0)\n",
            "Requirement already satisfied: google-auth<3,>=1.6.3 in /usr/local/lib/python3.10/dist-packages (from tensorboard<2.16,>=2.15->tensorflow>=2.1.0->stellargraph==1.3.0b0) (2.27.0)\n",
            "Requirement already satisfied: google-auth-oauthlib<2,>=0.5 in /usr/local/lib/python3.10/dist-packages (from tensorboard<2.16,>=2.15->tensorflow>=2.1.0->stellargraph==1.3.0b0) (1.2.0)\n",
            "Requirement already satisfied: markdown>=2.6.8 in /usr/local/lib/python3.10/dist-packages (from tensorboard<2.16,>=2.15->tensorflow>=2.1.0->stellargraph==1.3.0b0) (3.5.2)\n",
            "Requirement already satisfied: requests<3,>=2.21.0 in /usr/local/lib/python3.10/dist-packages (from tensorboard<2.16,>=2.15->tensorflow>=2.1.0->stellargraph==1.3.0b0) (2.31.0)\n",
            "Requirement already satisfied: tensorboard-data-server<0.8.0,>=0.7.0 in /usr/local/lib/python3.10/dist-packages (from tensorboard<2.16,>=2.15->tensorflow>=2.1.0->stellargraph==1.3.0b0) (0.7.2)\n",
            "Requirement already satisfied: werkzeug>=1.0.1 in /usr/local/lib/python3.10/dist-packages (from tensorboard<2.16,>=2.15->tensorflow>=2.1.0->stellargraph==1.3.0b0) (3.0.1)\n",
            "Requirement already satisfied: cachetools<6.0,>=2.0.0 in /usr/local/lib/python3.10/dist-packages (from google-auth<3,>=1.6.3->tensorboard<2.16,>=2.15->tensorflow>=2.1.0->stellargraph==1.3.0b0) (5.3.3)\n",
            "Requirement already satisfied: pyasn1-modules>=0.2.1 in /usr/local/lib/python3.10/dist-packages (from google-auth<3,>=1.6.3->tensorboard<2.16,>=2.15->tensorflow>=2.1.0->stellargraph==1.3.0b0) (0.3.0)\n",
            "Requirement already satisfied: rsa<5,>=3.1.4 in /usr/local/lib/python3.10/dist-packages (from google-auth<3,>=1.6.3->tensorboard<2.16,>=2.15->tensorflow>=2.1.0->stellargraph==1.3.0b0) (4.9)\n",
            "Requirement already satisfied: requests-oauthlib>=0.7.0 in /usr/local/lib/python3.10/dist-packages (from google-auth-oauthlib<2,>=0.5->tensorboard<2.16,>=2.15->tensorflow>=2.1.0->stellargraph==1.3.0b0) (1.3.1)\n",
            "Requirement already satisfied: charset-normalizer<4,>=2 in /usr/local/lib/python3.10/dist-packages (from requests<3,>=2.21.0->tensorboard<2.16,>=2.15->tensorflow>=2.1.0->stellargraph==1.3.0b0) (3.3.2)\n",
            "Requirement already satisfied: idna<4,>=2.5 in /usr/local/lib/python3.10/dist-packages (from requests<3,>=2.21.0->tensorboard<2.16,>=2.15->tensorflow>=2.1.0->stellargraph==1.3.0b0) (3.6)\n",
            "Requirement already satisfied: urllib3<3,>=1.21.1 in /usr/local/lib/python3.10/dist-packages (from requests<3,>=2.21.0->tensorboard<2.16,>=2.15->tensorflow>=2.1.0->stellargraph==1.3.0b0) (2.0.7)\n",
            "Requirement already satisfied: certifi>=2017.4.17 in /usr/local/lib/python3.10/dist-packages (from requests<3,>=2.21.0->tensorboard<2.16,>=2.15->tensorflow>=2.1.0->stellargraph==1.3.0b0) (2024.2.2)\n",
            "Requirement already satisfied: MarkupSafe>=2.1.1 in /usr/local/lib/python3.10/dist-packages (from werkzeug>=1.0.1->tensorboard<2.16,>=2.15->tensorflow>=2.1.0->stellargraph==1.3.0b0) (2.1.5)\n",
            "Requirement already satisfied: pyasn1<0.6.0,>=0.4.6 in /usr/local/lib/python3.10/dist-packages (from pyasn1-modules>=0.2.1->google-auth<3,>=1.6.3->tensorboard<2.16,>=2.15->tensorflow>=2.1.0->stellargraph==1.3.0b0) (0.5.1)\n",
            "Requirement already satisfied: oauthlib>=3.0.0 in /usr/local/lib/python3.10/dist-packages (from requests-oauthlib>=0.7.0->google-auth-oauthlib<2,>=0.5->tensorboard<2.16,>=2.15->tensorflow>=2.1.0->stellargraph==1.3.0b0) (3.2.2)\n",
            "Building wheels for collected packages: stellargraph\n",
            "  Building wheel for stellargraph (setup.py) ... \u001b[?25l\u001b[?25hdone\n",
            "  Created wheel for stellargraph: filename=stellargraph-1.3.0b0-py3-none-any.whl size=431845 sha256=3c909420802a238977aa6859e1c8f4159f11579f1c69c7a32107dd41db2f1a5a\n",
            "  Stored in directory: /tmp/pip-ephem-wheel-cache-e24n2mdl/wheels/f3/06/0f/089f69af27d308a1830638f855b6c5755311d8ffc451de9980\n",
            "Successfully built stellargraph\n",
            "Installing collected packages: stellargraph\n",
            "Successfully installed stellargraph-1.3.0b0\n"
          ]
        }
      ]
    },
    {
      "cell_type": "markdown",
      "source": [
        "\n",
        "The pip install git+https://github.com/VenkateshwaranB/stellargraph.git command installs the stellargraph library directly from its GitHub repository using the pip package manager. This method allows you to obtain the latest code directly from the repository rather than from the Python Package Index (PyPI)."
      ],
      "metadata": {
        "id": "0LlFIqDu7M4U"
      }
    },
    {
      "cell_type": "code",
      "source": [
        "!pip install neo4j stellargraph torch dgl"
      ],
      "metadata": {
        "colab": {
          "base_uri": "https://localhost:8080/"
        },
        "id": "SCVtN6N6n8J7",
        "outputId": "1573ab4d-1221-4988-c783-1a0835e31fbc"
      },
      "execution_count": null,
      "outputs": [
        {
          "output_type": "stream",
          "name": "stdout",
          "text": [
            "Requirement already satisfied: neo4j in /usr/local/lib/python3.10/dist-packages (5.18.0)\n",
            "Requirement already satisfied: stellargraph in /usr/local/lib/python3.10/dist-packages (1.3.0b0)\n",
            "Requirement already satisfied: torch in /usr/local/lib/python3.10/dist-packages (2.1.0+cu121)\n",
            "Collecting dgl\n",
            "  Downloading dgl-2.1.0-cp310-cp310-manylinux1_x86_64.whl (8.5 MB)\n",
            "\u001b[2K     \u001b[90m━━━━━━━━━━━━━━━━━━━━━━━━━━━━━━━━━━━━━━━━\u001b[0m \u001b[32m8.5/8.5 MB\u001b[0m \u001b[31m19.4 MB/s\u001b[0m eta \u001b[36m0:00:00\u001b[0m\n",
            "\u001b[?25hRequirement already satisfied: pytz in /usr/local/lib/python3.10/dist-packages (from neo4j) (2023.4)\n",
            "Requirement already satisfied: tensorflow>=2.1.0 in /usr/local/lib/python3.10/dist-packages (from stellargraph) (2.15.0)\n",
            "Requirement already satisfied: numpy>=1.14 in /usr/local/lib/python3.10/dist-packages (from stellargraph) (1.25.2)\n",
            "Requirement already satisfied: scipy>=1.1.0 in /usr/local/lib/python3.10/dist-packages (from stellargraph) (1.11.4)\n",
            "Requirement already satisfied: networkx>=2.2 in /usr/local/lib/python3.10/dist-packages (from stellargraph) (3.2.1)\n",
            "Requirement already satisfied: scikit-learn>=0.20 in /usr/local/lib/python3.10/dist-packages (from stellargraph) (1.2.2)\n",
            "Requirement already satisfied: matplotlib>=2.2 in /usr/local/lib/python3.10/dist-packages (from stellargraph) (3.7.1)\n",
            "Requirement already satisfied: pandas>=0.24 in /usr/local/lib/python3.10/dist-packages (from stellargraph) (1.5.3)\n",
            "Requirement already satisfied: filelock in /usr/local/lib/python3.10/dist-packages (from torch) (3.13.1)\n",
            "Requirement already satisfied: typing-extensions in /usr/local/lib/python3.10/dist-packages (from torch) (4.10.0)\n",
            "Requirement already satisfied: sympy in /usr/local/lib/python3.10/dist-packages (from torch) (1.12)\n",
            "Requirement already satisfied: jinja2 in /usr/local/lib/python3.10/dist-packages (from torch) (3.1.3)\n",
            "Requirement already satisfied: fsspec in /usr/local/lib/python3.10/dist-packages (from torch) (2023.6.0)\n",
            "Requirement already satisfied: triton==2.1.0 in /usr/local/lib/python3.10/dist-packages (from torch) (2.1.0)\n",
            "Requirement already satisfied: requests>=2.19.0 in /usr/local/lib/python3.10/dist-packages (from dgl) (2.31.0)\n",
            "Requirement already satisfied: tqdm in /usr/local/lib/python3.10/dist-packages (from dgl) (4.66.2)\n",
            "Requirement already satisfied: psutil>=5.8.0 in /usr/local/lib/python3.10/dist-packages (from dgl) (5.9.5)\n",
            "Requirement already satisfied: torchdata>=0.5.0 in /usr/local/lib/python3.10/dist-packages (from dgl) (0.7.0)\n",
            "Requirement already satisfied: contourpy>=1.0.1 in /usr/local/lib/python3.10/dist-packages (from matplotlib>=2.2->stellargraph) (1.2.0)\n",
            "Requirement already satisfied: cycler>=0.10 in /usr/local/lib/python3.10/dist-packages (from matplotlib>=2.2->stellargraph) (0.12.1)\n",
            "Requirement already satisfied: fonttools>=4.22.0 in /usr/local/lib/python3.10/dist-packages (from matplotlib>=2.2->stellargraph) (4.49.0)\n",
            "Requirement already satisfied: kiwisolver>=1.0.1 in /usr/local/lib/python3.10/dist-packages (from matplotlib>=2.2->stellargraph) (1.4.5)\n",
            "Requirement already satisfied: packaging>=20.0 in /usr/local/lib/python3.10/dist-packages (from matplotlib>=2.2->stellargraph) (23.2)\n",
            "Requirement already satisfied: pillow>=6.2.0 in /usr/local/lib/python3.10/dist-packages (from matplotlib>=2.2->stellargraph) (9.4.0)\n",
            "Requirement already satisfied: pyparsing>=2.3.1 in /usr/local/lib/python3.10/dist-packages (from matplotlib>=2.2->stellargraph) (3.1.1)\n",
            "Requirement already satisfied: python-dateutil>=2.7 in /usr/local/lib/python3.10/dist-packages (from matplotlib>=2.2->stellargraph) (2.8.2)\n",
            "Requirement already satisfied: charset-normalizer<4,>=2 in /usr/local/lib/python3.10/dist-packages (from requests>=2.19.0->dgl) (3.3.2)\n",
            "Requirement already satisfied: idna<4,>=2.5 in /usr/local/lib/python3.10/dist-packages (from requests>=2.19.0->dgl) (3.6)\n",
            "Requirement already satisfied: urllib3<3,>=1.21.1 in /usr/local/lib/python3.10/dist-packages (from requests>=2.19.0->dgl) (2.0.7)\n",
            "Requirement already satisfied: certifi>=2017.4.17 in /usr/local/lib/python3.10/dist-packages (from requests>=2.19.0->dgl) (2024.2.2)\n",
            "Requirement already satisfied: joblib>=1.1.1 in /usr/local/lib/python3.10/dist-packages (from scikit-learn>=0.20->stellargraph) (1.3.2)\n",
            "Requirement already satisfied: threadpoolctl>=2.0.0 in /usr/local/lib/python3.10/dist-packages (from scikit-learn>=0.20->stellargraph) (3.3.0)\n",
            "Requirement already satisfied: absl-py>=1.0.0 in /usr/local/lib/python3.10/dist-packages (from tensorflow>=2.1.0->stellargraph) (1.4.0)\n",
            "Requirement already satisfied: astunparse>=1.6.0 in /usr/local/lib/python3.10/dist-packages (from tensorflow>=2.1.0->stellargraph) (1.6.3)\n",
            "Requirement already satisfied: flatbuffers>=23.5.26 in /usr/local/lib/python3.10/dist-packages (from tensorflow>=2.1.0->stellargraph) (23.5.26)\n",
            "Requirement already satisfied: gast!=0.5.0,!=0.5.1,!=0.5.2,>=0.2.1 in /usr/local/lib/python3.10/dist-packages (from tensorflow>=2.1.0->stellargraph) (0.5.4)\n",
            "Requirement already satisfied: google-pasta>=0.1.1 in /usr/local/lib/python3.10/dist-packages (from tensorflow>=2.1.0->stellargraph) (0.2.0)\n",
            "Requirement already satisfied: h5py>=2.9.0 in /usr/local/lib/python3.10/dist-packages (from tensorflow>=2.1.0->stellargraph) (3.9.0)\n",
            "Requirement already satisfied: libclang>=13.0.0 in /usr/local/lib/python3.10/dist-packages (from tensorflow>=2.1.0->stellargraph) (16.0.6)\n",
            "Requirement already satisfied: ml-dtypes~=0.2.0 in /usr/local/lib/python3.10/dist-packages (from tensorflow>=2.1.0->stellargraph) (0.2.0)\n",
            "Requirement already satisfied: opt-einsum>=2.3.2 in /usr/local/lib/python3.10/dist-packages (from tensorflow>=2.1.0->stellargraph) (3.3.0)\n",
            "Requirement already satisfied: protobuf!=4.21.0,!=4.21.1,!=4.21.2,!=4.21.3,!=4.21.4,!=4.21.5,<5.0.0dev,>=3.20.3 in /usr/local/lib/python3.10/dist-packages (from tensorflow>=2.1.0->stellargraph) (3.20.3)\n",
            "Requirement already satisfied: setuptools in /usr/local/lib/python3.10/dist-packages (from tensorflow>=2.1.0->stellargraph) (67.7.2)\n",
            "Requirement already satisfied: six>=1.12.0 in /usr/local/lib/python3.10/dist-packages (from tensorflow>=2.1.0->stellargraph) (1.16.0)\n",
            "Requirement already satisfied: termcolor>=1.1.0 in /usr/local/lib/python3.10/dist-packages (from tensorflow>=2.1.0->stellargraph) (2.4.0)\n",
            "Requirement already satisfied: wrapt<1.15,>=1.11.0 in /usr/local/lib/python3.10/dist-packages (from tensorflow>=2.1.0->stellargraph) (1.14.1)\n",
            "Requirement already satisfied: tensorflow-io-gcs-filesystem>=0.23.1 in /usr/local/lib/python3.10/dist-packages (from tensorflow>=2.1.0->stellargraph) (0.36.0)\n",
            "Requirement already satisfied: grpcio<2.0,>=1.24.3 in /usr/local/lib/python3.10/dist-packages (from tensorflow>=2.1.0->stellargraph) (1.62.0)\n",
            "Requirement already satisfied: tensorboard<2.16,>=2.15 in /usr/local/lib/python3.10/dist-packages (from tensorflow>=2.1.0->stellargraph) (2.15.2)\n",
            "Requirement already satisfied: tensorflow-estimator<2.16,>=2.15.0 in /usr/local/lib/python3.10/dist-packages (from tensorflow>=2.1.0->stellargraph) (2.15.0)\n",
            "Requirement already satisfied: keras<2.16,>=2.15.0 in /usr/local/lib/python3.10/dist-packages (from tensorflow>=2.1.0->stellargraph) (2.15.0)\n",
            "Requirement already satisfied: MarkupSafe>=2.0 in /usr/local/lib/python3.10/dist-packages (from jinja2->torch) (2.1.5)\n",
            "Requirement already satisfied: mpmath>=0.19 in /usr/local/lib/python3.10/dist-packages (from sympy->torch) (1.3.0)\n",
            "Requirement already satisfied: wheel<1.0,>=0.23.0 in /usr/local/lib/python3.10/dist-packages (from astunparse>=1.6.0->tensorflow>=2.1.0->stellargraph) (0.42.0)\n",
            "Requirement already satisfied: google-auth<3,>=1.6.3 in /usr/local/lib/python3.10/dist-packages (from tensorboard<2.16,>=2.15->tensorflow>=2.1.0->stellargraph) (2.27.0)\n",
            "Requirement already satisfied: google-auth-oauthlib<2,>=0.5 in /usr/local/lib/python3.10/dist-packages (from tensorboard<2.16,>=2.15->tensorflow>=2.1.0->stellargraph) (1.2.0)\n",
            "Requirement already satisfied: markdown>=2.6.8 in /usr/local/lib/python3.10/dist-packages (from tensorboard<2.16,>=2.15->tensorflow>=2.1.0->stellargraph) (3.5.2)\n",
            "Requirement already satisfied: tensorboard-data-server<0.8.0,>=0.7.0 in /usr/local/lib/python3.10/dist-packages (from tensorboard<2.16,>=2.15->tensorflow>=2.1.0->stellargraph) (0.7.2)\n",
            "Requirement already satisfied: werkzeug>=1.0.1 in /usr/local/lib/python3.10/dist-packages (from tensorboard<2.16,>=2.15->tensorflow>=2.1.0->stellargraph) (3.0.1)\n",
            "Requirement already satisfied: cachetools<6.0,>=2.0.0 in /usr/local/lib/python3.10/dist-packages (from google-auth<3,>=1.6.3->tensorboard<2.16,>=2.15->tensorflow>=2.1.0->stellargraph) (5.3.3)\n",
            "Requirement already satisfied: pyasn1-modules>=0.2.1 in /usr/local/lib/python3.10/dist-packages (from google-auth<3,>=1.6.3->tensorboard<2.16,>=2.15->tensorflow>=2.1.0->stellargraph) (0.3.0)\n",
            "Requirement already satisfied: rsa<5,>=3.1.4 in /usr/local/lib/python3.10/dist-packages (from google-auth<3,>=1.6.3->tensorboard<2.16,>=2.15->tensorflow>=2.1.0->stellargraph) (4.9)\n",
            "Requirement already satisfied: requests-oauthlib>=0.7.0 in /usr/local/lib/python3.10/dist-packages (from google-auth-oauthlib<2,>=0.5->tensorboard<2.16,>=2.15->tensorflow>=2.1.0->stellargraph) (1.3.1)\n",
            "Requirement already satisfied: pyasn1<0.6.0,>=0.4.6 in /usr/local/lib/python3.10/dist-packages (from pyasn1-modules>=0.2.1->google-auth<3,>=1.6.3->tensorboard<2.16,>=2.15->tensorflow>=2.1.0->stellargraph) (0.5.1)\n",
            "Requirement already satisfied: oauthlib>=3.0.0 in /usr/local/lib/python3.10/dist-packages (from requests-oauthlib>=0.7.0->google-auth-oauthlib<2,>=0.5->tensorboard<2.16,>=2.15->tensorflow>=2.1.0->stellargraph) (3.2.2)\n",
            "Installing collected packages: dgl\n",
            "Successfully installed dgl-2.1.0\n"
          ]
        }
      ]
    },
    {
      "cell_type": "markdown",
      "source": [
        "The command pip install neo4j stellargraph torch dgl installs the specified Python packages (neo4j, stellargraph, torch, and dgl) using the pip package manager. This is a convenient way to install multiple packages in one command."
      ],
      "metadata": {
        "id": "1NwS2FUj8kOg"
      }
    },
    {
      "cell_type": "code",
      "source": [
        "!pip install stellargraph py2neo pandas"
      ],
      "metadata": {
        "colab": {
          "base_uri": "https://localhost:8080/"
        },
        "id": "P9MQNLEPoCC7",
        "outputId": "931bf756-c7ba-475b-bd89-32e44d3c5d27"
      },
      "execution_count": null,
      "outputs": [
        {
          "output_type": "stream",
          "name": "stdout",
          "text": [
            "Requirement already satisfied: stellargraph in /usr/local/lib/python3.10/dist-packages (1.3.0b0)\n",
            "Collecting py2neo\n",
            "  Downloading py2neo-2021.2.4-py2.py3-none-any.whl (177 kB)\n",
            "\u001b[2K     \u001b[90m━━━━━━━━━━━━━━━━━━━━━━━━━━━━━━━━━━━━━━━━\u001b[0m \u001b[32m177.2/177.2 kB\u001b[0m \u001b[31m3.9 MB/s\u001b[0m eta \u001b[36m0:00:00\u001b[0m\n",
            "\u001b[?25hRequirement already satisfied: pandas in /usr/local/lib/python3.10/dist-packages (1.5.3)\n",
            "Requirement already satisfied: tensorflow>=2.1.0 in /usr/local/lib/python3.10/dist-packages (from stellargraph) (2.15.0)\n",
            "Requirement already satisfied: numpy>=1.14 in /usr/local/lib/python3.10/dist-packages (from stellargraph) (1.25.2)\n",
            "Requirement already satisfied: scipy>=1.1.0 in /usr/local/lib/python3.10/dist-packages (from stellargraph) (1.11.4)\n",
            "Requirement already satisfied: networkx>=2.2 in /usr/local/lib/python3.10/dist-packages (from stellargraph) (3.2.1)\n",
            "Requirement already satisfied: scikit-learn>=0.20 in /usr/local/lib/python3.10/dist-packages (from stellargraph) (1.2.2)\n",
            "Requirement already satisfied: matplotlib>=2.2 in /usr/local/lib/python3.10/dist-packages (from stellargraph) (3.7.1)\n",
            "Requirement already satisfied: certifi in /usr/local/lib/python3.10/dist-packages (from py2neo) (2024.2.2)\n",
            "Collecting interchange~=2021.0.4 (from py2neo)\n",
            "  Downloading interchange-2021.0.4-py2.py3-none-any.whl (28 kB)\n",
            "Collecting monotonic (from py2neo)\n",
            "  Downloading monotonic-1.6-py2.py3-none-any.whl (8.2 kB)\n",
            "Requirement already satisfied: packaging in /usr/local/lib/python3.10/dist-packages (from py2neo) (23.2)\n",
            "Collecting pansi>=2020.7.3 (from py2neo)\n",
            "  Downloading pansi-2020.7.3-py2.py3-none-any.whl (10 kB)\n",
            "Requirement already satisfied: pygments>=2.0.0 in /usr/local/lib/python3.10/dist-packages (from py2neo) (2.16.1)\n",
            "Requirement already satisfied: six>=1.15.0 in /usr/local/lib/python3.10/dist-packages (from py2neo) (1.16.0)\n",
            "Requirement already satisfied: urllib3 in /usr/local/lib/python3.10/dist-packages (from py2neo) (2.0.7)\n",
            "Requirement already satisfied: python-dateutil>=2.8.1 in /usr/local/lib/python3.10/dist-packages (from pandas) (2.8.2)\n",
            "Requirement already satisfied: pytz>=2020.1 in /usr/local/lib/python3.10/dist-packages (from pandas) (2023.4)\n",
            "Requirement already satisfied: contourpy>=1.0.1 in /usr/local/lib/python3.10/dist-packages (from matplotlib>=2.2->stellargraph) (1.2.0)\n",
            "Requirement already satisfied: cycler>=0.10 in /usr/local/lib/python3.10/dist-packages (from matplotlib>=2.2->stellargraph) (0.12.1)\n",
            "Requirement already satisfied: fonttools>=4.22.0 in /usr/local/lib/python3.10/dist-packages (from matplotlib>=2.2->stellargraph) (4.49.0)\n",
            "Requirement already satisfied: kiwisolver>=1.0.1 in /usr/local/lib/python3.10/dist-packages (from matplotlib>=2.2->stellargraph) (1.4.5)\n",
            "Requirement already satisfied: pillow>=6.2.0 in /usr/local/lib/python3.10/dist-packages (from matplotlib>=2.2->stellargraph) (9.4.0)\n",
            "Requirement already satisfied: pyparsing>=2.3.1 in /usr/local/lib/python3.10/dist-packages (from matplotlib>=2.2->stellargraph) (3.1.1)\n",
            "Requirement already satisfied: joblib>=1.1.1 in /usr/local/lib/python3.10/dist-packages (from scikit-learn>=0.20->stellargraph) (1.3.2)\n",
            "Requirement already satisfied: threadpoolctl>=2.0.0 in /usr/local/lib/python3.10/dist-packages (from scikit-learn>=0.20->stellargraph) (3.3.0)\n",
            "Requirement already satisfied: absl-py>=1.0.0 in /usr/local/lib/python3.10/dist-packages (from tensorflow>=2.1.0->stellargraph) (1.4.0)\n",
            "Requirement already satisfied: astunparse>=1.6.0 in /usr/local/lib/python3.10/dist-packages (from tensorflow>=2.1.0->stellargraph) (1.6.3)\n",
            "Requirement already satisfied: flatbuffers>=23.5.26 in /usr/local/lib/python3.10/dist-packages (from tensorflow>=2.1.0->stellargraph) (23.5.26)\n",
            "Requirement already satisfied: gast!=0.5.0,!=0.5.1,!=0.5.2,>=0.2.1 in /usr/local/lib/python3.10/dist-packages (from tensorflow>=2.1.0->stellargraph) (0.5.4)\n",
            "Requirement already satisfied: google-pasta>=0.1.1 in /usr/local/lib/python3.10/dist-packages (from tensorflow>=2.1.0->stellargraph) (0.2.0)\n",
            "Requirement already satisfied: h5py>=2.9.0 in /usr/local/lib/python3.10/dist-packages (from tensorflow>=2.1.0->stellargraph) (3.9.0)\n",
            "Requirement already satisfied: libclang>=13.0.0 in /usr/local/lib/python3.10/dist-packages (from tensorflow>=2.1.0->stellargraph) (16.0.6)\n",
            "Requirement already satisfied: ml-dtypes~=0.2.0 in /usr/local/lib/python3.10/dist-packages (from tensorflow>=2.1.0->stellargraph) (0.2.0)\n",
            "Requirement already satisfied: opt-einsum>=2.3.2 in /usr/local/lib/python3.10/dist-packages (from tensorflow>=2.1.0->stellargraph) (3.3.0)\n",
            "Requirement already satisfied: protobuf!=4.21.0,!=4.21.1,!=4.21.2,!=4.21.3,!=4.21.4,!=4.21.5,<5.0.0dev,>=3.20.3 in /usr/local/lib/python3.10/dist-packages (from tensorflow>=2.1.0->stellargraph) (3.20.3)\n",
            "Requirement already satisfied: setuptools in /usr/local/lib/python3.10/dist-packages (from tensorflow>=2.1.0->stellargraph) (67.7.2)\n",
            "Requirement already satisfied: termcolor>=1.1.0 in /usr/local/lib/python3.10/dist-packages (from tensorflow>=2.1.0->stellargraph) (2.4.0)\n",
            "Requirement already satisfied: typing-extensions>=3.6.6 in /usr/local/lib/python3.10/dist-packages (from tensorflow>=2.1.0->stellargraph) (4.10.0)\n",
            "Requirement already satisfied: wrapt<1.15,>=1.11.0 in /usr/local/lib/python3.10/dist-packages (from tensorflow>=2.1.0->stellargraph) (1.14.1)\n",
            "Requirement already satisfied: tensorflow-io-gcs-filesystem>=0.23.1 in /usr/local/lib/python3.10/dist-packages (from tensorflow>=2.1.0->stellargraph) (0.36.0)\n",
            "Requirement already satisfied: grpcio<2.0,>=1.24.3 in /usr/local/lib/python3.10/dist-packages (from tensorflow>=2.1.0->stellargraph) (1.62.0)\n",
            "Requirement already satisfied: tensorboard<2.16,>=2.15 in /usr/local/lib/python3.10/dist-packages (from tensorflow>=2.1.0->stellargraph) (2.15.2)\n",
            "Requirement already satisfied: tensorflow-estimator<2.16,>=2.15.0 in /usr/local/lib/python3.10/dist-packages (from tensorflow>=2.1.0->stellargraph) (2.15.0)\n",
            "Requirement already satisfied: keras<2.16,>=2.15.0 in /usr/local/lib/python3.10/dist-packages (from tensorflow>=2.1.0->stellargraph) (2.15.0)\n",
            "Requirement already satisfied: wheel<1.0,>=0.23.0 in /usr/local/lib/python3.10/dist-packages (from astunparse>=1.6.0->tensorflow>=2.1.0->stellargraph) (0.42.0)\n",
            "Requirement already satisfied: google-auth<3,>=1.6.3 in /usr/local/lib/python3.10/dist-packages (from tensorboard<2.16,>=2.15->tensorflow>=2.1.0->stellargraph) (2.27.0)\n",
            "Requirement already satisfied: google-auth-oauthlib<2,>=0.5 in /usr/local/lib/python3.10/dist-packages (from tensorboard<2.16,>=2.15->tensorflow>=2.1.0->stellargraph) (1.2.0)\n",
            "Requirement already satisfied: markdown>=2.6.8 in /usr/local/lib/python3.10/dist-packages (from tensorboard<2.16,>=2.15->tensorflow>=2.1.0->stellargraph) (3.5.2)\n",
            "Requirement already satisfied: requests<3,>=2.21.0 in /usr/local/lib/python3.10/dist-packages (from tensorboard<2.16,>=2.15->tensorflow>=2.1.0->stellargraph) (2.31.0)\n",
            "Requirement already satisfied: tensorboard-data-server<0.8.0,>=0.7.0 in /usr/local/lib/python3.10/dist-packages (from tensorboard<2.16,>=2.15->tensorflow>=2.1.0->stellargraph) (0.7.2)\n",
            "Requirement already satisfied: werkzeug>=1.0.1 in /usr/local/lib/python3.10/dist-packages (from tensorboard<2.16,>=2.15->tensorflow>=2.1.0->stellargraph) (3.0.1)\n",
            "Requirement already satisfied: cachetools<6.0,>=2.0.0 in /usr/local/lib/python3.10/dist-packages (from google-auth<3,>=1.6.3->tensorboard<2.16,>=2.15->tensorflow>=2.1.0->stellargraph) (5.3.3)\n",
            "Requirement already satisfied: pyasn1-modules>=0.2.1 in /usr/local/lib/python3.10/dist-packages (from google-auth<3,>=1.6.3->tensorboard<2.16,>=2.15->tensorflow>=2.1.0->stellargraph) (0.3.0)\n",
            "Requirement already satisfied: rsa<5,>=3.1.4 in /usr/local/lib/python3.10/dist-packages (from google-auth<3,>=1.6.3->tensorboard<2.16,>=2.15->tensorflow>=2.1.0->stellargraph) (4.9)\n",
            "Requirement already satisfied: requests-oauthlib>=0.7.0 in /usr/local/lib/python3.10/dist-packages (from google-auth-oauthlib<2,>=0.5->tensorboard<2.16,>=2.15->tensorflow>=2.1.0->stellargraph) (1.3.1)\n",
            "Requirement already satisfied: charset-normalizer<4,>=2 in /usr/local/lib/python3.10/dist-packages (from requests<3,>=2.21.0->tensorboard<2.16,>=2.15->tensorflow>=2.1.0->stellargraph) (3.3.2)\n",
            "Requirement already satisfied: idna<4,>=2.5 in /usr/local/lib/python3.10/dist-packages (from requests<3,>=2.21.0->tensorboard<2.16,>=2.15->tensorflow>=2.1.0->stellargraph) (3.6)\n",
            "Requirement already satisfied: MarkupSafe>=2.1.1 in /usr/local/lib/python3.10/dist-packages (from werkzeug>=1.0.1->tensorboard<2.16,>=2.15->tensorflow>=2.1.0->stellargraph) (2.1.5)\n",
            "Requirement already satisfied: pyasn1<0.6.0,>=0.4.6 in /usr/local/lib/python3.10/dist-packages (from pyasn1-modules>=0.2.1->google-auth<3,>=1.6.3->tensorboard<2.16,>=2.15->tensorflow>=2.1.0->stellargraph) (0.5.1)\n",
            "Requirement already satisfied: oauthlib>=3.0.0 in /usr/local/lib/python3.10/dist-packages (from requests-oauthlib>=0.7.0->google-auth-oauthlib<2,>=0.5->tensorboard<2.16,>=2.15->tensorflow>=2.1.0->stellargraph) (3.2.2)\n",
            "Installing collected packages: monotonic, pansi, interchange, py2neo\n",
            "Successfully installed interchange-2021.0.4 monotonic-1.6 pansi-2020.7.3 py2neo-2021.2.4\n"
          ]
        }
      ]
    },
    {
      "cell_type": "markdown",
      "source": [
        "\n",
        "The command pip install stellargraph py2neo pandas installs the specified Python packages (stellargraph, py2neo, and pandas) using the pip package manager. This enables you to install these libraries and their dependencies in your Python environment."
      ],
      "metadata": {
        "id": "6TdZzKYA9P5Y"
      }
    },
    {
      "cell_type": "code",
      "source": [
        "# Importing the GraphDatabase class from the neo4j module\n",
        "from neo4j import GraphDatabase\n",
        "\n",
        "# Neo4j database connection details\n",
        "uri = \"neo4j+s://d3a947d5.databases.neo4j.io\"\n",
        "username = \"neo4j\"\n",
        "password = \"SC3NYzP1w2IG2JfYgFqgaDq-BfB66uVZ4j6bOEMx7ik\"\n",
        "\n",
        "# Creating a Neo4j driver instance with authentication\n",
        "driver = GraphDatabase.driver(uri, auth=(username, password))\n",
        "\n",
        "# Function to extract graph data from Neo4j database\n",
        "def extract_graph_data(tx):\n",
        "    query = (\n",
        "        \"MATCH (n)-[r]->(m) \"\n",
        "        \"RETURN id(n) AS source, id(m) AS target, type(r) AS relationship\"\n",
        "    )\n",
        "    result = tx.run(query)\n",
        "    # Extracting and formatting the result into a list of tuples\n",
        "    return [(record[\"source\"], record[\"target\"], record[\"relationship\"]) for record in result]\n",
        "\n",
        "# Opening a session with the Neo4j driver\n",
        "with driver.session() as session:\n",
        "    # Executing the graph data extraction function within a read transaction\n",
        "    graph_data = session.read_transaction(extract_graph_data)\n",
        "\n",
        "# Closing the Neo4j driver connection\n",
        "driver.close()"
      ],
      "metadata": {
        "id": "NOwnpvHowoRr"
      },
      "execution_count": null,
      "outputs": []
    },
    {
      "cell_type": "code",
      "source": [
        "import stellargraph as sg\n",
        "import numpy as np\n",
        "from py2neo import Graph\n",
        "import pandas as pd\n",
        "from sklearn.preprocessing import LabelEncoder\n",
        "from stellargraph.mapper import GraphSAGENodeGenerator\n",
        "from stellargraph.layer import GraphSAGE\n",
        "from tensorflow import keras\n",
        "\n",
        "# Connect to your Neo4j instance using py2neo\n",
        "graph = Graph(\"neo4j+s://d3a947d5.databases.neo4j.io\", auth=(\"neo4j\", \"SC3NYzP1w2IG2JfYgFqgaDq-BfB66uVZ4j6bOEMx7ik\"))\n",
        "\n",
        "# Cypher query to fetch node features and relationships\n",
        "query = \"\"\"\n",
        "MATCH (n)-[r]->(m)\n",
        "RETURN id(n) AS source, id(m) AS target, type(r) AS relationship\n",
        "\"\"\"\n",
        "result = graph.run(query)\n",
        "\n",
        "# Convert result to a Pandas DataFrame\n",
        "df = pd.DataFrame(result.data())"
      ],
      "metadata": {
        "id": "jM9_vUej4ZvN"
      },
      "execution_count": null,
      "outputs": []
    },
    {
      "cell_type": "code",
      "source": [
        "# Importing the Deep Graph Library (DGL)\n",
        "import dgl\n",
        "\n",
        "# Extracting source, destination, and relationship from the graph_data\n",
        "src, dst, rel = zip(*graph_data)\n"
      ],
      "metadata": {
        "id": "2OufcaBi4sqz"
      },
      "execution_count": null,
      "outputs": []
    },
    {
      "cell_type": "code",
      "source": [
        "# Importing the LabelEncoder class\n",
        "from sklearn.preprocessing import LabelEncoder\n",
        "\n",
        "# Creating a LabelEncoder instance\n",
        "le = LabelEncoder()\n",
        "\n",
        "# Transforming the 'rel' (relationship) data to numerical labels\n",
        "rel = le.fit_transform(rel)"
      ],
      "metadata": {
        "id": "vIYTnfZW7Y3r"
      },
      "execution_count": null,
      "outputs": []
    },
    {
      "cell_type": "code",
      "source": [
        "df['relationship']= le.fit_transform(df['relationship'])"
      ],
      "metadata": {
        "id": "kVCrZIHwF4U_"
      },
      "execution_count": null,
      "outputs": []
    },
    {
      "cell_type": "code",
      "source": [
        "src=pd.DataFrame(src)\n",
        "rel=pd.DataFrame(rel)"
      ],
      "metadata": {
        "id": "F9k3Z3t98Z4F"
      },
      "execution_count": null,
      "outputs": []
    },
    {
      "cell_type": "code",
      "source": [],
      "metadata": {
        "id": "VKAlIhQ0AGb1"
      },
      "execution_count": null,
      "outputs": []
    },
    {
      "cell_type": "markdown",
      "source": [
        "Stellargraph is a Python library tailored for machine learning on graph-structured data, offering tools and algorithms for tasks like node classification, link prediction, and graph classification. Built on TensorFlow and Keras, Stellargraph supports the creation and manipulation of heterogeneous graphs, making it versatile for real-world scenarios. The library integrates seamlessly with deep learning frameworks, providing access to popular graph algorithms such as GraphSAGE and node2vec. With its flexibility and compatibility with both homogeneous and heterogeneous graphs, Stellargraph is a powerful resource for diverse applications across social networks, biology, and recommendation systems. Its user-friendly design allows for easy customization and extension to address specific needs, contributing to its popularity in the graph-based machine learning community.\n",
        "\n",
        "\n",
        "\n"
      ],
      "metadata": {
        "id": "wDxDFIfuAGvp"
      }
    },
    {
      "cell_type": "code",
      "source": [
        "import stellargraph as sg\n",
        "import tensorflow as tf\n",
        "from sklearn.model_selection import train_test_split\n",
        "# convert the raw data into StellarGraph's graph format for faster operations\n",
        "graph = sg.StellarGraph(src,df)"
      ],
      "metadata": {
        "colab": {
          "base_uri": "https://localhost:8080/"
        },
        "id": "9_suDq6f4Lp1",
        "outputId": "35f6bd4c-546b-4db7-af0a-47cf43a878ae"
      },
      "execution_count": null,
      "outputs": [
        {
          "output_type": "stream",
          "name": "stdout",
          "text": [
            "Using GCN (local pooling) filters...\n"
          ]
        }
      ]
    },
    {
      "cell_type": "markdown",
      "source": [
        "The train_test_split function from scikit-learn's model_selection module to split a dataframe (df) into training and testing sets for a graph-based machine learning task. The train_size and test_size parameters determine the proportions allocated for training and testing, respectively. The resulting edgelist_train and edgelist_test are lists of tuples representing the edges in the training and testing sets, while labels_train and labels_test store the corresponding relationship labels for the edges in the training and testing sets. This code is essential for preparing data in a supervised learning context, ensuring that the model is trained on a subset of edges and tested on another subset to assess its generalization performance."
      ],
      "metadata": {
        "id": "iLp9nOfvBTtQ"
      }
    },
    {
      "cell_type": "code",
      "source": [
        "edges_train, edges_test = model_selection.train_test_split(\n",
        "    df, train_size=train_size, test_size=test_size\n",
        ")\n",
        "\n",
        "edgelist_train = list(edges_train[[\"source\", \"target\"]].itertuples(index=False))\n",
        "edgelist_test = list(edges_test[[\"source\", \"target\"]].itertuples(index=False))\n",
        "\n",
        "labels_train = edges_train[\"relationship\"]\n",
        "labels_test = edges_test[\"relationship\"]"
      ],
      "metadata": {
        "id": "gQwxcB4lJq5N"
      },
      "execution_count": null,
      "outputs": []
    },
    {
      "cell_type": "code",
      "source": [
        "num_samples = [8, 4]"
      ],
      "metadata": {
        "id": "641aD9gaO_E4"
      },
      "execution_count": null,
      "outputs": []
    },
    {
      "cell_type": "markdown",
      "source": [
        "HinSAGELinkGenerator is a class in the Stellargraph library designed for link prediction tasks on heterogeneous graphs. The term \"HinSAGE\" refers to the Heterogeneous GraphSAGE, a variant of the GraphSAGE algorithm adapted for heterogeneous graphs. The HinSAGELinkGenerator facilitates the generation of link prediction mini-batches, allowing the efficient training of GraphSAGE models on pairs of nodes from different types connected by edges. It handles the sampling and batching of node neighborhoods and the creation of negative samples for training. This class is particularly useful for preserving the structural and semantic information in heterogeneous graphs during the link prediction process, enabling the model to learn meaningful representations for different types of nodes and relationships in the graph."
      ],
      "metadata": {
        "id": "430OCextB9Lf"
      }
    },
    {
      "cell_type": "code",
      "source": [
        "generator = HinSAGELinkGenerator(\n",
        "    graph, batch_size, num_samples\n",
        ")\n",
        "train_gen = generator.flow(edgelist_train, labels_train, shuffle=True)\n",
        "test_gen = generator.flow(edgelist_test, labels_test)"
      ],
      "metadata": {
        "id": "YFR0ehiWPElW"
      },
      "execution_count": null,
      "outputs": []
    },
    {
      "cell_type": "code",
      "source": [
        "# Obtain the type adjacency list for the specified head node types and number of samples\n",
        "type_adjacency_list = generator.schema.type_adjacency_list(generator.head_node_types, len(num_samples))"
      ],
      "metadata": {
        "colab": {
          "base_uri": "https://localhost:8080/"
        },
        "id": "EqPSt0fQPZTx",
        "outputId": "f086ead3-ff04-4079-cc0d-5177a8c47eb3"
      },
      "execution_count": null,
      "outputs": [
        {
          "output_type": "execute_result",
          "data": {
            "text/plain": [
              "[('default', [2]),\n",
              " ('default', [3]),\n",
              " ('default', [4]),\n",
              " ('default', [5]),\n",
              " ('default', []),\n",
              " ('default', [])]"
            ]
          },
          "metadata": {},
          "execution_count": 145
        }
      ]
    },
    {
      "cell_type": "code",
      "source": [
        "# Ensure that the specified Heterogeneous GraphSAGE (HinSAGE) layer sizes match the number of samples\n",
        "assert len(hinsage_layer_sizes) == len(num_samples)\n",
        "\n",
        "# Initialize the HinSAGE layer with the specified layer sizes, generator, bias, and dropout\n",
        "hinsage = HinSAGE(layer_sizes=hinsage_layer_sizes, generator=generator, bias=True, dropout=0.0)"
      ],
      "metadata": {
        "id": "_3nav-dqPgzV"
      },
      "execution_count": null,
      "outputs": []
    },
    {
      "cell_type": "code",
      "source": [
        "# Extract input and output tensors from the HinSAGE layer\n",
        "x_inp, x_out = hinsage.in_out_tensors()"
      ],
      "metadata": {
        "colab": {
          "base_uri": "https://localhost:8080/"
        },
        "id": "gmEZdsDOPlwg",
        "outputId": "c5491f18-90e0-4bcc-f7a0-eeea2f8ddad6"
      },
      "execution_count": null,
      "outputs": [
        {
          "output_type": "stream",
          "name": "stderr",
          "text": [
            "/usr/local/lib/python3.10/dist-packages/keras/src/initializers/initializers.py:120: UserWarning: The initializer GlorotUniform is unseeded and being called multiple times, which will return identical values each time (even if the initializer is unseeded). Please update your code to provide a seed to the initializer, or avoid using the same initializer instance more than once.\n",
            "  warnings.warn(\n"
          ]
        }
      ]
    },
    {
      "cell_type": "code",
      "source": [
        "# Perform link prediction by applying a regression layer to the output tensor from HinSAGE\n",
        "score_prediction = link_regression(edge_embedding_method=\"concat\")(x_out)"
      ],
      "metadata": {
        "colab": {
          "base_uri": "https://localhost:8080/"
        },
        "id": "Mt4YSL96PqQ4",
        "outputId": "75ab730b-7f36-41fa-f117-99418ed8caa6"
      },
      "execution_count": null,
      "outputs": [
        {
          "output_type": "stream",
          "name": "stdout",
          "text": [
            "link_regression: using 'concat' method to combine node embeddings into edge embeddings\n"
          ]
        }
      ]
    },
    {
      "cell_type": "markdown",
      "source": [
        "link regression layer to predict scores for link existence based on the embeddings generated by the HinSAGE layer. The edge_embedding_method=\"concat\" parameter specifies the method used to combine node embeddings when predicting link scores, in this case, concatenating the embeddings of the source and target nodes. This step is crucial for transforming the node embeddings into a prediction score, often followed by a loss calculation during the training process."
      ],
      "metadata": {
        "id": "OKGYNpGKFyAE"
      }
    },
    {
      "cell_type": "code",
      "source": [
        "import tensorflow.keras.backend as K\n",
        "\n",
        "\n",
        "def root_mean_square_error(s_true, s_pred):\n",
        "    return K.sqrt(K.mean(K.pow(s_true - s_pred, 2)))\n",
        "\n",
        "\n",
        "# Compile the model with Adam optimizer, mean squared error loss, and evaluation metrics\n",
        "model.compile(\n",
        "    optimizer=optimizers.Adam(lr=1e-2),\n",
        "    loss=losses.mean_squared_error,\n",
        "    metrics=[root_mean_square_error, metrics.mae],\n",
        ")"
      ],
      "metadata": {
        "colab": {
          "base_uri": "https://localhost:8080/"
        },
        "id": "MtgxqJ6KPuMQ",
        "outputId": "dc2c7283-9b5a-4a73-85c1-aaa00e62359f"
      },
      "execution_count": null,
      "outputs": [
        {
          "output_type": "stream",
          "name": "stderr",
          "text": [
            "WARNING:absl:`lr` is deprecated in Keras optimizer, please use `learning_rate` or use the legacy optimizer, e.g.,tf.keras.optimizers.legacy.Adam.\n"
          ]
        }
      ]
    },
    {
      "cell_type": "markdown",
      "source": [
        "First, a neural network model is defined with x_inp as the input tensor and score_prediction as the output tensor, representing the link prediction scores. Next, the model is compiled using the Adam optimizer with a learning rate of 1e-2, mean squared error as the loss function for training, and additional evaluation metrics, including the root mean square error (root_mean_square_error) and mean absolute error (metrics.mae)."
      ],
      "metadata": {
        "id": "IYjJZKICGn-g"
      }
    },
    {
      "cell_type": "code",
      "source": [
        "# Specify the number of workers to use for model training\n",
        "num_workers = 4"
      ],
      "metadata": {
        "id": "4_6Q0LH9Pvn1"
      },
      "execution_count": null,
      "outputs": []
    },
    {
      "cell_type": "code",
      "source": [
        "# Evaluate the untrained model on the test set\n",
        "test_metrics = model.evaluate(\n",
        "    test_gen, verbose=1, use_multiprocessing=False, workers=num_workers\n",
        ")\n",
        "\n",
        "# Print the evaluation metrics for the untrained model on the test set\n",
        "print(\"Untrained model's Test Evaluation:\")\n",
        "for name, val in zip(model.metrics_names, test_metrics):\n",
        "    print(\"\\t{}: {:0.4f}\".format(name, val))"
      ],
      "metadata": {
        "colab": {
          "base_uri": "https://localhost:8080/"
        },
        "id": "e-y2IvTJP0BP",
        "outputId": "5de56d4e-5007-441d-a857-46bc39571e7c"
      },
      "execution_count": null,
      "outputs": [
        {
          "output_type": "stream",
          "name": "stdout",
          "text": [
            "39/39 [==============================] - 11s 175ms/step - loss: 41.1663 - root_mean_square_error: 6.4119 - mean_absolute_error: 5.3800\n",
            "Untrained model's Test Evaluation:\n",
            "\tloss: 41.1663\n",
            "\troot_mean_square_error: 6.4119\n",
            "\tmean_absolute_error: 5.3800\n"
          ]
        }
      ]
    },
    {
      "cell_type": "markdown",
      "source": [
        "Firstly, the evaluate method is applied to the model (model) using the test generator (test_gen). The evaluation metrics are stored in the test_metrics variable. The subsequent code prints out the evaluation metrics for the untrained model on the test set. This is valuable for understanding the initial performance of the model before any training has occurred."
      ],
      "metadata": {
        "id": "wNKnPukfGye0"
      }
    },
    {
      "cell_type": "code",
      "source": [
        "# Train the model using the training generator and evaluate on the validation set\n",
        "history = model.fit(\n",
        "    train_gen,\n",
        "    validation_data=test_gen,\n",
        "    epochs=epochs,\n",
        "    verbose=1,\n",
        "    shuffle=False,\n",
        "    use_multiprocessing=False,\n",
        "    workers=num_workers,\n",
        ")"
      ],
      "metadata": {
        "colab": {
          "base_uri": "https://localhost:8080/"
        },
        "id": "GFxkL9-BP2ik",
        "outputId": "5b917b8d-decb-4d12-af28-c32e964f5889"
      },
      "execution_count": null,
      "outputs": [
        {
          "output_type": "stream",
          "name": "stdout",
          "text": [
            "Epoch 1/20\n",
            "91/91 [==============================] - 24s 230ms/step - loss: 29.1013 - root_mean_square_error: 5.3706 - mean_absolute_error: 4.1906 - val_loss: 23.2080 - val_root_mean_square_error: 4.8126 - val_mean_absolute_error: 3.5276\n",
            "Epoch 2/20\n",
            "91/91 [==============================] - 20s 213ms/step - loss: 19.2968 - root_mean_square_error: 4.3850 - mean_absolute_error: 3.3009 - val_loss: 17.4281 - val_root_mean_square_error: 4.1700 - val_mean_absolute_error: 3.2840\n",
            "Epoch 3/20\n",
            "91/91 [==============================] - 19s 211ms/step - loss: 15.2498 - root_mean_square_error: 3.8991 - mean_absolute_error: 3.1669 - val_loss: 14.4231 - val_root_mean_square_error: 3.7935 - val_mean_absolute_error: 3.1891\n",
            "Epoch 4/20\n",
            "91/91 [==============================] - 19s 211ms/step - loss: 13.1643 - root_mean_square_error: 3.6249 - mean_absolute_error: 3.1039 - val_loss: 12.8740 - val_root_mean_square_error: 3.5844 - val_mean_absolute_error: 3.1351\n",
            "Epoch 5/20\n",
            "91/91 [==============================] - 19s 210ms/step - loss: 12.1456 - root_mean_square_error: 3.4831 - mean_absolute_error: 3.0697 - val_loss: 12.1308 - val_root_mean_square_error: 3.4795 - val_mean_absolute_error: 3.0825\n",
            "Epoch 6/20\n",
            "91/91 [==============================] - 19s 211ms/step - loss: 11.6261 - root_mean_square_error: 3.4079 - mean_absolute_error: 3.0188 - val_loss: 11.6945 - val_root_mean_square_error: 3.4163 - val_mean_absolute_error: 3.0341\n",
            "Epoch 7/20\n",
            "91/91 [==============================] - 19s 208ms/step - loss: 11.2763 - root_mean_square_error: 3.3548 - mean_absolute_error: 2.9611 - val_loss: 11.4100 - val_root_mean_square_error: 3.3740 - val_mean_absolute_error: 2.9710\n",
            "Epoch 8/20\n",
            "91/91 [==============================] - 19s 210ms/step - loss: 10.9935 - root_mean_square_error: 3.3115 - mean_absolute_error: 2.8938 - val_loss: 11.1370 - val_root_mean_square_error: 3.3329 - val_mean_absolute_error: 2.9026\n",
            "Epoch 9/20\n",
            "91/91 [==============================] - 20s 216ms/step - loss: 10.7383 - root_mean_square_error: 3.2742 - mean_absolute_error: 2.8371 - val_loss: 10.9596 - val_root_mean_square_error: 3.3058 - val_mean_absolute_error: 2.8120\n",
            "Epoch 10/20\n",
            "91/91 [==============================] - 20s 213ms/step - loss: 10.5929 - root_mean_square_error: 3.2503 - mean_absolute_error: 2.7811 - val_loss: 10.8410 - val_root_mean_square_error: 3.2876 - val_mean_absolute_error: 2.7816\n",
            "Epoch 11/20\n",
            "91/91 [==============================] - 19s 204ms/step - loss: 10.4297 - root_mean_square_error: 3.2254 - mean_absolute_error: 2.7242 - val_loss: 10.6900 - val_root_mean_square_error: 3.2651 - val_mean_absolute_error: 2.7835\n",
            "Epoch 12/20\n",
            "91/91 [==============================] - 20s 215ms/step - loss: 10.3589 - root_mean_square_error: 3.2164 - mean_absolute_error: 2.7125 - val_loss: 10.5935 - val_root_mean_square_error: 3.2503 - val_mean_absolute_error: 2.7441\n",
            "Epoch 13/20\n",
            "91/91 [==============================] - 19s 211ms/step - loss: 10.2420 - root_mean_square_error: 3.1965 - mean_absolute_error: 2.6798 - val_loss: 10.5274 - val_root_mean_square_error: 3.2391 - val_mean_absolute_error: 2.6938\n",
            "Epoch 14/20\n",
            "91/91 [==============================] - 20s 215ms/step - loss: 10.1807 - root_mean_square_error: 3.1853 - mean_absolute_error: 2.6621 - val_loss: 10.4774 - val_root_mean_square_error: 3.2317 - val_mean_absolute_error: 2.6782\n",
            "Epoch 15/20\n",
            "91/91 [==============================] - 19s 211ms/step - loss: 10.1409 - root_mean_square_error: 3.1812 - mean_absolute_error: 2.6580 - val_loss: 10.3654 - val_root_mean_square_error: 3.2146 - val_mean_absolute_error: 2.6556\n",
            "Epoch 16/20\n",
            "91/91 [==============================] - 20s 215ms/step - loss: 10.0780 - root_mean_square_error: 3.1707 - mean_absolute_error: 2.6459 - val_loss: 10.3245 - val_root_mean_square_error: 3.2080 - val_mean_absolute_error: 2.6647\n",
            "Epoch 17/20\n",
            "91/91 [==============================] - 20s 215ms/step - loss: 10.0368 - root_mean_square_error: 3.1639 - mean_absolute_error: 2.6455 - val_loss: 10.3418 - val_root_mean_square_error: 3.2112 - val_mean_absolute_error: 2.6444\n",
            "Epoch 18/20\n",
            "91/91 [==============================] - 20s 218ms/step - loss: 9.9679 - root_mean_square_error: 3.1541 - mean_absolute_error: 2.6386 - val_loss: 10.3135 - val_root_mean_square_error: 3.2062 - val_mean_absolute_error: 2.5897\n",
            "Epoch 19/20\n",
            "91/91 [==============================] - 19s 212ms/step - loss: 9.9011 - root_mean_square_error: 3.1433 - mean_absolute_error: 2.6290 - val_loss: 10.2022 - val_root_mean_square_error: 3.1894 - val_mean_absolute_error: 2.6287\n",
            "Epoch 20/20\n",
            "91/91 [==============================] - 20s 212ms/step - loss: 9.9032 - root_mean_square_error: 3.1422 - mean_absolute_error: 2.6296 - val_loss: 10.0754 - val_root_mean_square_error: 3.1705 - val_mean_absolute_error: 2.6838\n"
          ]
        }
      ]
    },
    {
      "cell_type": "markdown",
      "source": [
        " The fit method is applied to the model (model) with training data from train_gen and validation data from test_gen. The epochs parameter determines the number of training epochs, and other optional parameters include verbosity (verbose), shuffling of training data (shuffle), and the number of workers for data loading (workers). The training history, including metrics and losses for each epoch, is stored in the history variable."
      ],
      "metadata": {
        "id": "v-PPiE2dHtLC"
      }
    },
    {
      "cell_type": "code",
      "source": [
        "sg.utils.plot_history(history)"
      ],
      "metadata": {
        "colab": {
          "base_uri": "https://localhost:8080/",
          "height": 1000
        },
        "id": "7XPLmQOmQA6k",
        "outputId": "ee36e480-bb6f-48f6-ebea-f60b3b8c5db4"
      },
      "execution_count": null,
      "outputs": [
        {
          "output_type": "display_data",
          "data": {
            "text/plain": [
              "<Figure size 700x1200 with 3 Axes>"
            ],
            "image/png": "[encoded data removed]"
          },
          "metadata": {}
        }
      ]
    },
    {
      "cell_type": "code",
      "source": [
        "test_metrics = model.evaluate(\n",
        "    test_gen, use_multiprocessing=False, workers=num_workers, verbose=1\n",
        ")\n",
        "\n",
        "print(\"Test Evaluation:\")\n",
        "for name, val in zip(model.metrics_names, test_metrics):\n",
        "    print(\"\\t{}: {:0.4f}\".format(name, val))"
      ],
      "metadata": {
        "colab": {
          "base_uri": "https://localhost:8080/"
        },
        "id": "-mHaaBEYRnur",
        "outputId": "2bd17d14-8779-47ee-a94c-cc7057dfadb5"
      },
      "execution_count": null,
      "outputs": [
        {
          "output_type": "stream",
          "name": "stdout",
          "text": [
            "39/39 [==============================] - 6s 134ms/step - loss: 10.1037 - root_mean_square_error: 3.1742 - mean_absolute_error: 2.6846\n",
            "Test Evaluation:\n",
            "\tloss: 10.1037\n",
            "\troot_mean_square_error: 3.1742\n",
            "\tmean_absolute_error: 2.6846\n"
          ]
        }
      ]
    },
    {
      "cell_type": "code",
      "source": [
        "y_true = labels_test\n",
        "# Predict the rankings using the model:\n",
        "y_pred = model.predict(test_gen)\n",
        "# Mean baseline rankings = mean movie ranking:\n",
        "y_pred_baseline = np.full_like(y_pred, np.mean(y_true))\n",
        "\n",
        "rmse = np.sqrt(mean_squared_error(y_true, y_pred_baseline))\n",
        "mae = mean_absolute_error(y_true, y_pred_baseline)\n",
        "print(\"Mean Baseline Test set metrics:\")\n",
        "print(\"\\troot_mean_square_error = \", rmse)\n",
        "print(\"\\tmean_absolute_error = \", mae)\n",
        "\n",
        "rmse = np.sqrt(mean_squared_error(y_true, y_pred))\n",
        "mae = mean_absolute_error(y_true, y_pred)\n",
        "print(\"\\nModel Test set metrics:\")\n",
        "print(\"\\troot_mean_square_error = \", rmse)\n",
        "print(\"\\tmean_absolute_error = \", mae)"
      ],
      "metadata": {
        "colab": {
          "base_uri": "https://localhost:8080/"
        },
        "id": "nOmx1n4gRtbM",
        "outputId": "973a9d5f-9da6-4386-cdaa-b492a4e35acf"
      },
      "execution_count": null,
      "outputs": [
        {
          "output_type": "stream",
          "name": "stdout",
          "text": [
            "39/39 [==============================] - 6s 124ms/step\n",
            "Mean Baseline Test set metrics:\n",
            "\troot_mean_square_error =  3.4919327541064353\n",
            "\tmean_absolute_error =  3.2115590100304954\n",
            "\n",
            "Model Test set metrics:\n",
            "\troot_mean_square_error =  3.1813338794058152\n",
            "\tmean_absolute_error =  2.6885148664553253\n"
          ]
        }
      ]
    },
    {
      "cell_type": "code",
      "source": [
        "h_true = plt.hist(y_true, bins=30, facecolor=\"green\", alpha=0.5)\n",
        "h_pred = plt.hist(y_pred, bins=30, facecolor=\"blue\", alpha=0.5)\n",
        "plt.xlabel(\"ranking\")\n",
        "plt.ylabel(\"count\")\n",
        "plt.legend((\"True\", \"Predicted\"))\n",
        "plt.show()"
      ],
      "metadata": {
        "colab": {
          "base_uri": "https://localhost:8080/",
          "height": 449
        },
        "id": "AHJffsLORy7J",
        "outputId": "e33f8f92-4679-4b38-cacf-67b56b665e13"
      },
      "execution_count": null,
      "outputs": [
        {
          "output_type": "display_data",
          "data": {
            "text/plain": [
              "<Figure size 640x480 with 1 Axes>"
            ],
            "image/png": "[encoded data removed]"
          },
          "metadata": {}
        }
      ]
    },
    {
      "cell_type": "code",
      "source": [],
      "metadata": {
        "id": "WxKNhRI4R5fV"
      },
      "execution_count": null,
      "outputs": []
    },
    {
      "cell_type": "markdown",
      "source": [
        "Running Code Ends"
      ],
      "metadata": {
        "id": "dPVx40z0Op4L"
      }
    }
  ]
}